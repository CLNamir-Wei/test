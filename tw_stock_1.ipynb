{
 "cells": [
  {
   "cell_type": "code",
   "execution_count": 1,
   "metadata": {},
   "outputs": [],
   "source": [
    "import numpy as np\n",
    "import requests\n",
    "import pandas as pd\n",
    "import datetime\n",
    "\n",
    "def get_historical_stock_data(date, stock_no):\n",
    "    quotes = []\n",
    "    url = 'http://www.twse.com.tw/exchangeReport/STOCK_DAY?date=%s&stockNo=%s' % ( date, stock_no)\n",
    "    r = requests.get(url)\n",
    "    data = r.json()\n",
    "    return data\n",
    "\n",
    "def convert_date(date_str):\n",
    "    \n",
    "    y,m,d = date_str.split('/')\n",
    "    d = str(int(y) + 1911) + '/' + m + '/' + d\n",
    "    \n",
    "    return datetime.datetime.strptime(d, '%Y/%m/%d')\n",
    "\n",
    "def convert_int(int_str):\n",
    "    \n",
    "    return int(int_str.replace(',',''))\n",
    "\n",
    "def convert_float(float_str):\n",
    "    \n",
    "    return float(float_str.replace(',',''))\n",
    "\n",
    "def convert_sign_float(sign_float):\n",
    "    \n",
    "    d = sign_float.replace(',','')\n",
    "    return 0.0 if d == 'X0.00' else float(d)\n",
    "\n",
    "\n",
    "def convert_data_vec(vec,i):\n",
    "    \n",
    "    d = {'date':convert_date(vec[0]),\n",
    "    'volume':convert_int(vec[1]),\n",
    "    'amount':convert_int(vec[2]),\n",
    "    'open':convert_float(vec[3]),\n",
    "    'high':convert_float(vec[4]),\n",
    "    'low':convert_float(vec[5]),\n",
    "    'close':convert_float(vec[6]),\n",
    "    'change':convert_sign_float(vec[7]),\n",
    "    'num_of_trans':convert_float(vec[8])}\n",
    "    \n",
    "    return pd.DataFrame(d,index=[i])\n",
    "\n",
    "def get_stock_df(stock_data, key='data'):\n",
    "    \n",
    "    stock_data_list = stock_data[key]\n",
    "    n = len(stock_data_list)\n",
    "    \n",
    "    return pd.concat([convert_data_vec(stock_data_list[i], i) for i in range(n)], axis=0)"
   ]
  },
  {
   "cell_type": "code",
   "execution_count": 2,
   "metadata": {},
   "outputs": [
    {
     "data": {
      "text/plain": [
       "1"
      ]
     },
     "execution_count": 2,
     "metadata": {},
     "output_type": "execute_result"
    }
   ],
   "source": [
    "res = requests.get(\"http://isin.twse.com.tw/isin/C_public.jsp?strMode=2\")\n",
    "\n",
    "df = pd.read_html(res.text)\n",
    "\n",
    "len(df)"
   ]
  },
  {
   "cell_type": "code",
   "execution_count": 3,
   "metadata": {},
   "outputs": [],
   "source": [
    "df = df[0]"
   ]
  },
  {
   "cell_type": "code",
   "execution_count": 8,
   "metadata": {},
   "outputs": [
    {
     "data": {
      "text/plain": [
       "array(['CFICode', '股票', 'ESVUFR', 'ESVTFR', '上市認購(售)權證', 'RWSCCE',\n",
       "       'RWICPE', 'RWBCPE', 'RWBCCE', 'RWSCPE', 'RWICCE', 'RWBCCA',\n",
       "       'RWSCCA', 'ETN', 'CMXXXU', '特別股', 'EPNRAR', 'EPNRQR', 'EPRRQR',\n",
       "       'EPNNFR', 'EPNRFR', 'ETF', 'CEOGEU', 'CEOGDU', 'CEOGMU', 'CEOGBU',\n",
       "       'CEOGCU', 'CEOJEU', 'CEOIBU', 'CEOIEU', 'CEOIRU', 'CEOJLU',\n",
       "       '臺灣存託憑證(TDR)', 'EDSDDR', '受益證券-不動產投資信託', 'CBCIXU'], dtype=object)"
      ]
     },
     "execution_count": 8,
     "metadata": {},
     "output_type": "execute_result"
    }
   ],
   "source": [
    "df[5].unique()"
   ]
  },
  {
   "cell_type": "code",
   "execution_count": 4,
   "metadata": {},
   "outputs": [
    {
     "data": {
      "text/html": [
       "<div>\n",
       "<style scoped>\n",
       "    .dataframe tbody tr th:only-of-type {\n",
       "        vertical-align: middle;\n",
       "    }\n",
       "\n",
       "    .dataframe tbody tr th {\n",
       "        vertical-align: top;\n",
       "    }\n",
       "\n",
       "    .dataframe thead th {\n",
       "        text-align: right;\n",
       "    }\n",
       "</style>\n",
       "<table border=\"1\" class=\"dataframe\">\n",
       "  <thead>\n",
       "    <tr style=\"text-align: right;\">\n",
       "      <th></th>\n",
       "      <th>0</th>\n",
       "      <th>2</th>\n",
       "      <th>3</th>\n",
       "      <th>4</th>\n",
       "    </tr>\n",
       "  </thead>\n",
       "  <tbody>\n",
       "    <tr>\n",
       "      <th>0</th>\n",
       "      <td>1101　台泥</td>\n",
       "      <td>1962/02/09</td>\n",
       "      <td>上市</td>\n",
       "      <td>水泥工業</td>\n",
       "    </tr>\n",
       "    <tr>\n",
       "      <th>1</th>\n",
       "      <td>1102　亞泥</td>\n",
       "      <td>1962/06/08</td>\n",
       "      <td>上市</td>\n",
       "      <td>水泥工業</td>\n",
       "    </tr>\n",
       "    <tr>\n",
       "      <th>2</th>\n",
       "      <td>1103　嘉泥</td>\n",
       "      <td>1969/11/14</td>\n",
       "      <td>上市</td>\n",
       "      <td>水泥工業</td>\n",
       "    </tr>\n",
       "    <tr>\n",
       "      <th>3</th>\n",
       "      <td>1104　環泥</td>\n",
       "      <td>1971/02/01</td>\n",
       "      <td>上市</td>\n",
       "      <td>水泥工業</td>\n",
       "    </tr>\n",
       "    <tr>\n",
       "      <th>4</th>\n",
       "      <td>1108　幸福</td>\n",
       "      <td>1990/06/06</td>\n",
       "      <td>上市</td>\n",
       "      <td>水泥工業</td>\n",
       "    </tr>\n",
       "  </tbody>\n",
       "</table>\n",
       "</div>"
      ],
      "text/plain": [
       "         0           2   3     4\n",
       "0  1101　台泥  1962/02/09  上市  水泥工業\n",
       "1  1102　亞泥  1962/06/08  上市  水泥工業\n",
       "2  1103　嘉泥  1969/11/14  上市  水泥工業\n",
       "3  1104　環泥  1971/02/01  上市  水泥工業\n",
       "4  1108　幸福  1990/06/06  上市  水泥工業"
      ]
     },
     "execution_count": 4,
     "metadata": {},
     "output_type": "execute_result"
    }
   ],
   "source": [
    "stock_ref = df[(df[5]=='ESVUFR') | (df[5]=='ESVTFR')].reset_index()[[0,2,3,4]]\n",
    "stock_ref.head()"
   ]
  },
  {
   "cell_type": "code",
   "execution_count": 5,
   "metadata": {},
   "outputs": [],
   "source": [
    "stock_ref.columns = ['name_and_no','ipo_date','market','industry']\n",
    "\n",
    "stock_ref['stock_no'] = stock_ref['name_and_no'].apply(lambda x: x.split()[0])\n",
    "stock_ref['stock_name'] = stock_ref['name_and_no'].apply(lambda x: x.split()[1])\n",
    "\n",
    "stock_ref = stock_ref[['stock_no','stock_name','ipo_date','market','industry']]"
   ]
  },
  {
   "cell_type": "code",
   "execution_count": 6,
   "metadata": {},
   "outputs": [],
   "source": [
    "mystock = get_historical_stock_data(20180930, 2330)"
   ]
  },
  {
   "cell_type": "code",
   "execution_count": 7,
   "metadata": {},
   "outputs": [],
   "source": [
    "#get_stock_df(mystock)"
   ]
  },
  {
   "cell_type": "code",
   "execution_count": null,
   "metadata": {},
   "outputs": [],
   "source": []
  }
 ],
 "metadata": {
  "kernelspec": {
   "display_name": "Python 3",
   "language": "python",
   "name": "python3"
  },
  "language_info": {
   "codemirror_mode": {
    "name": "ipython",
    "version": 3
   },
   "file_extension": ".py",
   "mimetype": "text/x-python",
   "name": "python",
   "nbconvert_exporter": "python",
   "pygments_lexer": "ipython3",
   "version": "3.7.3"
  }
 },
 "nbformat": 4,
 "nbformat_minor": 2
}
